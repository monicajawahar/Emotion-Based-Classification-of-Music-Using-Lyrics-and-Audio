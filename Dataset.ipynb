{
  "nbformat": 4,
  "nbformat_minor": 0,
  "metadata": {
    "colab": {
      "name": "Dataset",
      "provenance": [],
      "collapsed_sections": []
    },
    "kernelspec": {
      "display_name": "Python 3",
      "name": "python3"
    }
  },
  "cells": [
    {
      "cell_type": "markdown",
      "metadata": {
        "id": "As5WjmXW5P56"
      },
      "source": [
        "Web scraping Audio **Dataset**"
      ]
    },
    {
      "cell_type": "code",
      "metadata": {
        "id": "at9lIaSl5BA7"
      },
      "source": [
        "!pip install requests\n",
        "!pip install openpyxl\n",
        "import requests\n",
        "from openpyxl import load_workbook\n",
        "\n",
        "train = '/content/drive/MyDrive/Colab Notebooks/Phase 2/Dataset/Deezer ID/train.xlsx'\n",
        "wb = load_workbook(filename = train, data_only=True)\n",
        "ws = wb.active\n",
        "\n",
        "for rowNumber in range(1,10247):\n",
        "\tdeezer = str(ws.cell(row=rowNumber,column=1).value)\n",
        "\tdeezer = str(int(float(deezer)))\n",
        "\tURL = \"https://api.deezer.com/track/\"+deezer\n",
        "\tr = requests.get(url = URL)\n",
        "\tte = r.json()\n",
        "\tmp3 = te['preview']\n",
        "\tif(mp3!=\"\"):\n",
        "\t\tr = requests.get(mp3)\n",
        "\t\tfilename = deezer+\".mp3\"\n",
        "\t\tpath = '/content/drive/MyDrive/Colab Notebooks/Phase 2/Dataset/Train/'+filename \n",
        "\t\twith open(path,'wb') as f: \n",
        "\t\t\tf.write(r.content)"
      ],
      "execution_count": null,
      "outputs": []
    },
    {
      "cell_type": "code",
      "metadata": {
        "colab": {
          "base_uri": "https://localhost:8080/"
        },
        "id": "W7YRlxcuMwYK",
        "outputId": "6aefbbc4-8fa8-47b9-d8bd-ec0b38d0e868"
      },
      "source": [
        "!pip install requests\n",
        "!pip install openpyxl\n",
        "import requests\n",
        "from openpyxl import load_workbook\n",
        "\n",
        "train = '/content/drive/MyDrive/Colab Notebooks/Phase 2/Dataset/Deezer ID/validation.xlsx'\n",
        "wb = load_workbook(filename = train, data_only=True)\n",
        "ws = wb.active\n",
        "\n",
        "for rowNumber in range(1,3555):\n",
        "\tdeezer = str(ws.cell(row=rowNumber,column=1).value)\n",
        "\tdeezer = str(int(float(deezer)))\n",
        "\tURL = \"https://api.deezer.com/track/\"+deezer\n",
        "\tr = requests.get(url = URL)\n",
        "\tte = r.json()\n",
        "\tmp3 = te['preview']\n",
        "\tif(mp3!=\"\"):\n",
        "\t\tr = requests.get(mp3)\n",
        "\t\tfilename = deezer+\".mp3\"\n",
        "\t\tpath = '/content/drive/MyDrive/Colab Notebooks/Phase 2/Dataset/Validation/'+filename \n",
        "\t\twith open(path,'wb') as f: \n",
        "\t\t\tf.write(r.content)"
      ],
      "execution_count": null,
      "outputs": [
        {
          "output_type": "stream",
          "text": [
            "Requirement already satisfied: requests in /usr/local/lib/python3.6/dist-packages (2.23.0)\n",
            "Requirement already satisfied: chardet<4,>=3.0.2 in /usr/local/lib/python3.6/dist-packages (from requests) (3.0.4)\n",
            "Requirement already satisfied: idna<3,>=2.5 in /usr/local/lib/python3.6/dist-packages (from requests) (2.10)\n",
            "Requirement already satisfied: certifi>=2017.4.17 in /usr/local/lib/python3.6/dist-packages (from requests) (2020.12.5)\n",
            "Requirement already satisfied: urllib3!=1.25.0,!=1.25.1,<1.26,>=1.21.1 in /usr/local/lib/python3.6/dist-packages (from requests) (1.24.3)\n",
            "Requirement already satisfied: openpyxl in /usr/local/lib/python3.6/dist-packages (2.5.9)\n",
            "Requirement already satisfied: et-xmlfile in /usr/local/lib/python3.6/dist-packages (from openpyxl) (1.0.1)\n",
            "Requirement already satisfied: jdcal in /usr/local/lib/python3.6/dist-packages (from openpyxl) (1.4.1)\n"
          ],
          "name": "stdout"
        }
      ]
    },
    {
      "cell_type": "code",
      "metadata": {
        "id": "re4CxA_Y461W"
      },
      "source": [
        "!pip install requests\n",
        "!pip install openpyxl\n",
        "import requests\n",
        "from openpyxl import load_workbook\n",
        "\n",
        "train = '/content/drive/MyDrive/Colab Notebooks/Phase 2/Dataset/Deezer ID/test.xlsx'\n",
        "wb = load_workbook(filename = train, data_only=True)\n",
        "ws = wb.active\n",
        "\n",
        "for rowNumber in range(1,3146):\n",
        "\tdeezer = str(ws.cell(row=rowNumber,column=1).value)\n",
        "\tdeezer = str(int(float(deezer)))\n",
        "\tURL = \"https://api.deezer.com/track/\"+deezer\n",
        "\tr = requests.get(url = URL)\n",
        "\tte = r.json()\n",
        "\tmp3 = te['preview']\n",
        "\tif(mp3!=\"\"):\n",
        "\t\tr = requests.get(mp3)\n",
        "\t\tfilename = deezer+\".mp3\"\n",
        "\t\tpath = '/content/drive/MyDrive/Colab Notebooks/Phase 2/Dataset/Test/'+filename \n",
        "\t\twith open(path,'wb') as f: \n",
        "\t\t\tf.write(r.content)"
      ],
      "execution_count": null,
      "outputs": []
    }
  ]
}